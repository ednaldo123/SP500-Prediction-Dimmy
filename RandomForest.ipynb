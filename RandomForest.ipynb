{
  "cells": [
    {
      "cell_type": "code",
      "execution_count": null,
      "metadata": {
        "id": "0qdh7YdaG2eg"
      },
      "outputs": [],
      "source": [
        "import pandas as pd\n",
        "from sklearn.model_selection import train_test_split\n",
        "from sklearn.ensemble import RandomForestRegressor\n",
        "from sklearn.metrics import mean_squared_error\n",
        "import matplotlib.pyplot as plt\n",
        "import numpy as np"
      ]
    },
    {
      "cell_type": "code",
      "execution_count": null,
      "metadata": {
        "id": "-bYBqPhkG9Sp"
      },
      "outputs": [],
      "source": [
        "file_path = 'sp500_historical_data.csv'\n",
        "data = pd.read_csv(file_path)"
      ]
    },
    {
      "cell_type": "code",
      "execution_count": null,
      "metadata": {
        "id": "dN6zvjhMHDjq"
      },
      "outputs": [],
      "source": [
        "file_path = 'sp500_historical_data.csv'\n",
        "data = pd.read_csv(file_path)"
      ]
    },
    {
      "cell_type": "code",
      "execution_count": null,
      "metadata": {
        "id": "77uidM0jHNRE"
      },
      "outputs": [],
      "source": [
        "data['Date'] = pd.to_datetime(data['Date'])\n",
        "data.set_index('Date', inplace=True)\n",
        "data.sort_index(inplace=True)"
      ]
    },
    {
      "cell_type": "code",
      "execution_count": null,
      "metadata": {
        "id": "LEMEpzzsHNTu"
      },
      "outputs": [],
      "source": [
        "data['Open-Close'] = data['Open'] - data['Close']\n",
        "data['High-Low'] = data['High'] - data['Low']\n",
        "data['3day MA'] = data['Close'].shift(1).rolling(window=3).mean()\n",
        "data['10day MA'] = data['Close'].shift(1).rolling(window=10).mean()\n",
        "data['30day MA'] = data['Close'].shift(1).rolling(window=30).mean()\n",
        "data['Std_dev'] = data['Close'].rolling(5).std()\n",
        "data['5day MA'] = data['Close'].shift(1).rolling(window=5).mean()"
      ]
    },
    {
      "cell_type": "code",
      "execution_count": null,
      "metadata": {
        "id": "GoEtu6bZHNWW"
      },
      "outputs": [],
      "source": [
        "data = data.dropna()"
      ]
    },
    {
      "cell_type": "code",
      "execution_count": null,
      "metadata": {
        "id": "7ugNH0mIHUaX"
      },
      "outputs": [],
      "source": [
        "X = data[['Open-Close', 'High-Low', '3day MA', '10day MA', '30day MA', 'Std_dev', '5day MA']]\n",
        "y = data['Close']"
      ]
    },
    {
      "cell_type": "code",
      "execution_count": null,
      "metadata": {
        "id": "AKFuipd8HNY2"
      },
      "outputs": [],
      "source": [
        "X_train, X_test, y_train, y_test = train_test_split(X, y, test_size=0.2, random_state=42)\n"
      ]
    },
    {
      "cell_type": "code",
      "execution_count": null,
      "metadata": {
        "id": "TU2EydXvHNbV"
      },
      "outputs": [],
      "source": [
        "best_mse = float(\"inf\")\n",
        "best_params = {}"
      ]
    },
    {
      "cell_type": "code",
      "execution_count": null,
      "metadata": {
        "id": "Lohc5GjXHeFe"
      },
      "outputs": [],
      "source": [
        "\n",
        "for n_estimators in [100, 200]:\n",
        "    for max_depth in [10, 20]:\n",
        "        for min_samples_split in [2, 5]:\n",
        "            rf = RandomForestRegressor(n_estimators=n_estimators, max_depth=max_depth, min_samples_split=min_samples_split, random_state=42)\n",
        "            rf.fit(X_train, y_train)\n",
        "            y_pred = rf.predict(X_test)\n",
        "            mse = mean_squared_error(y_test, y_pred)\n",
        "            if mse < best_mse:\n",
        "                best_mse = mse\n",
        "                best_params = {\n",
        "                    'n_estimators': n_estimators,\n",
        "                    'max_depth': max_depth,\n",
        "                    'min_samples_split': min_samples_split\n",
        "                }\n"
      ]
    },
    {
      "cell_type": "code",
      "execution_count": null,
      "metadata": {
        "colab": {
          "base_uri": "https://localhost:8080/"
        },
        "id": "nGWhxf4SHeIT",
        "outputId": "0813e89f-df6b-49ac-c99b-973b2e580f66"
      },
      "outputs": [
        {
          "data": {
            "text/plain": [
              "(752.1321524857083,\n",
              " {'n_estimators': 200, 'max_depth': 20, 'min_samples_split': 2})"
            ]
          },
          "execution_count": 35,
          "metadata": {},
          "output_type": "execute_result"
        }
      ],
      "source": [
        "rf_best = RandomForestRegressor(**best_params, random_state=42)\n",
        "rf_best.fit(X_train, y_train)\n",
        "y_pred_best = rf_best.predict(X_test)\n",
        "final_mse = mean_squared_error(y_test, y_pred_best)\n",
        "\n",
        "final_mse, best_params"
      ]
    }
  ],
  "metadata": {
    "colab": {
      "provenance": []
    },
    "kernelspec": {
      "display_name": "Python 3",
      "name": "python3"
    },
    "language_info": {
      "name": "python"
    }
  },
  "nbformat": 4,
  "nbformat_minor": 0
}
