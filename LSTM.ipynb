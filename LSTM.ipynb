{
  "cells": [
    {
      "cell_type": "code",
      "execution_count": null,
      "metadata": {
        "id": "HBAr82GZKgGU"
      },
      "outputs": [],
      "source": [
        "import pandas as pd\n",
        "import numpy as np\n",
        "from sklearn.preprocessing import MinMaxScaler\n",
        "from sklearn.metrics import mean_squared_error\n",
        "import matplotlib.pyplot as plt\n",
        "import tensorflow as tf\n",
        "from tensorflow.keras.models import Sequential\n",
        "from tensorflow.keras.layers import Conv1D, MaxPooling1D, Flatten, Dense, Dropout, LSTM\n",
        "from tensorflow.keras.callbacks import EarlyStopping, ReduceLROnPlateau"
      ]
    },
    {
      "cell_type": "code",
      "execution_count": null,
      "metadata": {
        "id": "WzQjKkw5KgI8"
      },
      "outputs": [],
      "source": [
        "\"model\"\n",
        "model = Sequential([\n",
        "    Conv1D(filters=64, kernel_size=3, activation='relu', input_shape=(sequence_length, 1)),\n",
        "    MaxPooling1D(pool_size=2),\n",
        "    Dropout(0.2),\n",
        "    LSTM(units=50, return_sequences=True),\n",
        "    Dropout(0.2),\n",
        "    LSTM(units=50),\n",
        "    Dropout(0.2),\n",
        "    Dense(50, activation='relu'),\n",
        "    Dense(1)\n",
        "])"
      ]
    },
    {
      "cell_type": "code",
      "execution_count": null,
      "metadata": {
        "id": "MMycOzHwLSRX"
      },
      "outputs": [],
      "source": [
        "model.compile(optimizer='adam', loss='mean_squared_error')"
      ]
    },
    {
      "cell_type": "code",
      "execution_count": null,
      "metadata": {
        "id": "dTG6ujlqOmIv"
      },
      "outputs": [],
      "source": [
        "early_stopping = EarlyStopping(monitor='val_loss', patience=10, restore_best_weights=True)\n",
        "reduce_lr = ReduceLROnPlateau(monitor='val_loss', factor=0.2, patience=5, min_lr=0.001)"
      ]
    },
    {
      "cell_type": "code",
      "execution_count": null,
      "metadata": {
        "colab": {
          "base_uri": "https://localhost:8080/"
        },
        "id": "RuWMf3GjP9CQ",
        "outputId": "e16301a1-e5a3-428c-974b-af0858cd8911"
      },
      "outputs": [
        {
          "name": "stderr",
          "output_type": "stream",
          "text": [
            "Exception ignored in: <function _xla_gc_callback at 0x7efcd5c36320>\n",
            "Traceback (most recent call last):\n",
            "  File \"/usr/local/lib/python3.10/dist-packages/jax/_src/lib/__init__.py\", line 98, in _xla_gc_callback\n",
            "    def _xla_gc_callback(*args):\n",
            "KeyboardInterrupt: \n"
          ]
        },
        {
          "name": "stdout",
          "output_type": "stream",
          "text": [
            "Epoch 1/100\n",
            "90/90 [==============================] - 4s 44ms/step - loss: 0.0013 - val_loss: 0.0115 - lr: 0.0010\n",
            "Epoch 2/100\n",
            "90/90 [==============================] - 4s 47ms/step - loss: 8.4484e-04 - val_loss: 0.0016 - lr: 0.0010\n",
            "Epoch 3/100\n",
            "90/90 [==============================] - 3s 33ms/step - loss: 6.9622e-04 - val_loss: 0.0037 - lr: 0.0010\n",
            "Epoch 4/100\n",
            "90/90 [==============================] - 3s 32ms/step - loss: 7.5783e-04 - val_loss: 0.0028 - lr: 0.0010\n",
            "Epoch 5/100\n",
            "90/90 [==============================] - 3s 35ms/step - loss: 6.0890e-04 - val_loss: 0.0037 - lr: 0.0010\n",
            "Epoch 6/100\n",
            "90/90 [==============================] - 4s 45ms/step - loss: 5.8184e-04 - val_loss: 0.0011 - lr: 0.0010\n",
            "Epoch 7/100\n",
            "90/90 [==============================] - 3s 33ms/step - loss: 5.7442e-04 - val_loss: 0.0013 - lr: 0.0010\n",
            "Epoch 8/100\n",
            "90/90 [==============================] - 3s 36ms/step - loss: 5.8462e-04 - val_loss: 0.0015 - lr: 0.0010\n",
            "Epoch 9/100\n",
            "90/90 [==============================] - 3s 35ms/step - loss: 5.7647e-04 - val_loss: 0.0023 - lr: 0.0010\n",
            "Epoch 10/100\n",
            "90/90 [==============================] - 4s 47ms/step - loss: 4.6762e-04 - val_loss: 0.0070 - lr: 0.0010\n",
            "Epoch 11/100\n",
            "90/90 [==============================] - 3s 33ms/step - loss: 5.3130e-04 - val_loss: 0.0064 - lr: 0.0010\n",
            "Epoch 12/100\n",
            "90/90 [==============================] - 3s 34ms/step - loss: 4.7153e-04 - val_loss: 0.0022 - lr: 0.0010\n",
            "Epoch 13/100\n",
            "90/90 [==============================] - 3s 34ms/step - loss: 5.1789e-04 - val_loss: 0.0053 - lr: 0.0010\n",
            "Epoch 14/100\n",
            "90/90 [==============================] - 4s 47ms/step - loss: 4.2842e-04 - val_loss: 0.0054 - lr: 0.0010\n",
            "Epoch 15/100\n",
            "90/90 [==============================] - 3s 34ms/step - loss: 4.2630e-04 - val_loss: 0.0059 - lr: 0.0010\n",
            "Epoch 16/100\n",
            "90/90 [==============================] - 3s 34ms/step - loss: 4.2110e-04 - val_loss: 0.0018 - lr: 0.0010\n"
          ]
        }
      ],
      "source": [
        "history = model.fit(X_train, y_train, epochs=100, batch_size=32, validation_data=(X_test, y_test), callbacks=[early_stopping, reduce_lr])\n"
      ]
    }
  ],
  "metadata": {
    "colab": {
      "provenance": []
    },
    "kernelspec": {
      "display_name": "Python 3",
      "name": "python3"
    },
    "language_info": {
      "name": "python"
    }
  },
  "nbformat": 4,
  "nbformat_minor": 0
}
